{
  "cells": [
    {
      "cell_type": "markdown",
      "metadata": {
        "colab_type": "text",
        "id": "view-in-github"
      },
      "source": [
        "<a href=\"https://colab.research.google.com/github/enriquemx1/time_series_analysis/blob/main/endtoendforecast.ipynb\" target=\"_parent\"><img src=\"https://colab.research.google.com/assets/colab-badge.svg\" alt=\"Open In Colab\"/></a>"
      ]
    },
    {
      "cell_type": "code",
      "execution_count": 3,
      "metadata": {
        "id": "R6YS0Ksfw3qQ"
      },
      "outputs": [],
      "source": [
        "#disable warnings\n",
        "import warnings\n",
        "warnings.filterwarnings('ignore')\n",
        "#load stats libraries pandas numpy and statsmodels\n",
        "import pandas as pd\n",
        "import numpy as np\n",
        "from statsmodels.tsa.stattools import (\n",
        "    adfuller,\n",
        "    kpss\n",
        "    )\n",
        "from statsmodels.graphics.tsaplots import (\n",
        "    plot_acf,\n",
        "    plot_pacf\n",
        "    )\n",
        "import matplotlib.pyplot as plt\n",
        "from statsmodels.tsa.statespace.sarimax import SARIMAX\n",
        "from statsmodels.tsa.seasonal import seasonal_decompose\n",
        "from statsmodels.tsa.stattools import adfuller\n",
        "from statsmodels.tsa.stattools import kpss\n",
        "import pymannkendall as mk"
      ]
    },
    {
      "cell_type": "code",
      "execution_count": 23,
      "metadata": {
        "colab": {
          "base_uri": "https://localhost:8080/"
        },
        "id": "sqdD8BjV7hq5",
        "outputId": "8a7cf57a-7666-48ed-fd5e-4f3c064b2c11"
      },
      "outputs": [
        {
          "name": "stdout",
          "output_type": "stream",
          "text": [
            "<class 'pandas.core.frame.DataFrame'>\n",
            "RangeIndex: 53 entries, 0 to 52\n",
            "Data columns (total 2 columns):\n",
            " #   Column  Non-Null Count  Dtype         \n",
            "---  ------  --------------  -----         \n",
            " 0   date    53 non-null     datetime64[ns]\n",
            " 1   calls   53 non-null     int64         \n",
            "dtypes: datetime64[ns](1), int64(1)\n",
            "memory usage: 980.0 bytes\n",
            "\n",
            "\n"
          ]
        },
        {
          "data": {
            "text/html": [
              "<div>\n",
              "<style scoped>\n",
              "    .dataframe tbody tr th:only-of-type {\n",
              "        vertical-align: middle;\n",
              "    }\n",
              "\n",
              "    .dataframe tbody tr th {\n",
              "        vertical-align: top;\n",
              "    }\n",
              "\n",
              "    .dataframe thead th {\n",
              "        text-align: right;\n",
              "    }\n",
              "</style>\n",
              "<table border=\"1\" class=\"dataframe\">\n",
              "  <thead>\n",
              "    <tr style=\"text-align: right;\">\n",
              "      <th></th>\n",
              "      <th>date</th>\n",
              "      <th>calls</th>\n",
              "    </tr>\n",
              "  </thead>\n",
              "  <tbody>\n",
              "    <tr>\n",
              "      <th>0</th>\n",
              "      <td>2021-01-01</td>\n",
              "      <td>110569</td>\n",
              "    </tr>\n",
              "    <tr>\n",
              "      <th>1</th>\n",
              "      <td>2021-01-02</td>\n",
              "      <td>105581</td>\n",
              "    </tr>\n",
              "    <tr>\n",
              "      <th>2</th>\n",
              "      <td>2021-01-03</td>\n",
              "      <td>140809</td>\n",
              "    </tr>\n",
              "    <tr>\n",
              "      <th>3</th>\n",
              "      <td>2021-01-04</td>\n",
              "      <td>135149</td>\n",
              "    </tr>\n",
              "    <tr>\n",
              "      <th>4</th>\n",
              "      <td>2021-01-05</td>\n",
              "      <td>149069</td>\n",
              "    </tr>\n",
              "  </tbody>\n",
              "</table>\n",
              "</div>"
            ],
            "text/plain": [
              "        date   calls\n",
              "0 2021-01-01  110569\n",
              "1 2021-01-02  105581\n",
              "2 2021-01-03  140809\n",
              "3 2021-01-04  135149\n",
              "4 2021-01-05  149069"
            ]
          },
          "execution_count": 23,
          "metadata": {},
          "output_type": "execute_result"
        }
      ],
      "source": [
        "# importar archivo\n",
        "df = pd.read_csv('monthly_data_load.csv')\n",
        "\n",
        "# crear una copia del dataset\n",
        "df_baking = df.copy()\n",
        "\n",
        "# convertir la columna date a fecha\n",
        "\n",
        "df_baking['date'] = pd.to_datetime(df_baking['date'])\n",
        "\n",
        "df_baking.info()\n",
        "print('\\n')\n",
        "\n",
        "\n",
        "# convertir la columna calls en serie\n",
        "series = df_baking['calls']\n",
        "df_baking.head()"
      ]
    },
    {
      "cell_type": "markdown",
      "metadata": {
        "id": "rEuMRbpLEhqW"
      },
      "source": [
        "Aplicar Pruebas Estadísticas\n",
        "Voy a calcular:\n",
        "- Prueba Dickey-Fuller Aumentada (ADF) → Para verificar si la serie es estacionaria.\n",
        "- Prueba KPSS → Para confirmar si tiene tendencia.\n",
        "- Prueba Mann-Kendall → Para detectar tendencias significativas.\n",
        "- Autocorrelación ACF/PACF → Para evaluar rezagos relevantes.\n",
        "\n",
        "\n"
      ]
    },
    {
      "cell_type": "code",
      "execution_count": 24,
      "metadata": {
        "colab": {
          "base_uri": "https://localhost:8080/"
        },
        "id": "qZ7dkC2g-RIj",
        "outputId": "c1bdeeb3-2e39-4a00-a060-73f84f1981b5"
      },
      "outputs": [
        {
          "name": "stdout",
          "output_type": "stream",
          "text": [
            "\n",
            "Prueba Dickey-Fuller Aumentada (ADF):\n",
            "Estadístico de prueba: 1.1634151775453687\n",
            "p-valor: 0.9957231084311645\n",
            "Valores críticos: {'1%': np.float64(-3.60098336718852), '5%': np.float64(-2.9351348158036012), '10%': np.float64(-2.6059629803688282)}\n",
            "❌ La serie tiene tendencia (no es estacionaria).\n"
          ]
        }
      ],
      "source": [
        "# aplicar prueba dickey-fuller\n",
        "adf_test = adfuller(series)\n",
        "print(\"\\nPrueba Dickey-Fuller Aumentada (ADF):\")\n",
        "print(f\"Estadístico de prueba: {adf_test[0]}\")\n",
        "print(f\"p-valor: {adf_test[1]}\")\n",
        "print(f\"Valores críticos: {adf_test[4]}\")\n",
        "\n",
        "if adf_test[1] < 0.05:\n",
        "    print(\"✅ La serie es estacionaria.\")\n",
        "else:\n",
        "    print(\"❌ La serie tiene tendencia (no es estacionaria).\")\n"
      ]
    },
    {
      "cell_type": "code",
      "execution_count": 9,
      "metadata": {
        "colab": {
          "base_uri": "https://localhost:8080/"
        },
        "id": "7DVtp3m4CgqL",
        "outputId": "fe6a19c9-1e09-4260-c8e5-4066f8c12d3b"
      },
      "outputs": [
        {
          "name": "stdout",
          "output_type": "stream",
          "text": [
            "\n",
            "Prueba KPSS:\n",
            "Estadístico de prueba: 1.000258462326453\n",
            "p-valor: 0.01\n",
            "Valores críticos: {'10%': 0.347, '5%': 0.463, '2.5%': 0.574, '1%': 0.739}\n",
            "❌ La serie tiene tendencia (no es estacionaria).\n"
          ]
        },
        {
          "name": "stderr",
          "output_type": "stream",
          "text": [
            "/tmp/ipykernel_7206/4186494972.py:4: InterpolationWarning: The test statistic is outside of the range of p-values available in the\n",
            "look-up table. The actual p-value is smaller than the p-value returned.\n",
            "\n",
            "  kpss_test = kpss(series, regression=\"c\")\n"
          ]
        }
      ],
      "source": [
        "from statsmodels.tsa.stattools import kpss\n",
        "\n",
        "# Aplicar prueba KPSS\n",
        "kpss_test = kpss(series, regression=\"c\")\n",
        "\n",
        "print(\"\\nPrueba KPSS:\")\n",
        "print(f\"Estadístico de prueba: {kpss_test[0]}\")\n",
        "print(f\"p-valor: {kpss_test[1]}\")\n",
        "print(f\"Valores críticos: {kpss_test[3]}\")\n",
        "\n",
        "if kpss_test[1] < 0.05:\n",
        "    print(\"❌ La serie tiene tendencia (no es estacionaria).\")\n",
        "else:\n",
        "    print(\"✅ La serie es estacionaria.\")"
      ]
    },
    {
      "cell_type": "code",
      "execution_count": 10,
      "metadata": {
        "colab": {
          "base_uri": "https://localhost:8080/"
        },
        "id": "BKiJyQbeDSaq",
        "outputId": "82c7610b-292e-4470-cd8a-102a0a15c218"
      },
      "outputs": [
        {
          "name": "stdout",
          "output_type": "stream",
          "text": [
            "\n",
            "Prueba Mann-Kendall:\n",
            "p-valor: 6.636247107394411e-12\n",
            "Tendencia detectada: decreasing\n",
            "📉 Se detecta una tendencia decreciente.\n"
          ]
        }
      ],
      "source": [
        "import pymannkendall as mk\n",
        "\n",
        "# Aplicar prueba Mann-Kendall\n",
        "mk_result = mk.original_test(series)\n",
        "\n",
        "print(\"\\nPrueba Mann-Kendall:\")\n",
        "print(f\"p-valor: {mk_result.p}\")\n",
        "print(f\"Tendencia detectada: {mk_result.trend}\")\n",
        "\n",
        "if mk_result.trend == \"no trend\":\n",
        "    print(\"✅ No hay tendencia significativa.\")\n",
        "elif mk_result.trend == \"increasing\":\n",
        "    print(\"📈 Se detecta una tendencia creciente.\")\n",
        "elif mk_result.trend == \"decreasing\":\n",
        "    print(\"📉 Se detecta una tendencia decreciente.\")"
      ]
    },
    {
      "cell_type": "code",
      "execution_count": 11,
      "metadata": {
        "colab": {
          "base_uri": "https://localhost:8080/",
          "height": 887
        },
        "id": "3hoNY9fLD0bo",
        "outputId": "234b252b-205c-439c-e89b-071159773bc4"
      },
      "outputs": [
        {
          "data": {
            "image/png": "[encoded data removed]",
            "text/plain": [
              "<Figure size 640x480 with 1 Axes>"
            ]
          },
          "metadata": {},
          "output_type": "display_data"
        },
        {
          "data": {
            "image/png": "[encoded data removed]",
            "text/plain": [
              "<Figure size 640x480 with 1 Axes>"
            ]
          },
          "metadata": {},
          "output_type": "display_data"
        }
      ],
      "source": [
        "import matplotlib.pyplot as plt\n",
        "from statsmodels.graphics.tsaplots import plot_acf, plot_pacf\n",
        "\n",
        "# Gráfico ACF\n",
        "\n",
        "plot_acf(series, lags=20)\n",
        "plt.title(\"Gráfico ACF (Autocorrelación)\")\n",
        "plt.show()\n",
        "\n",
        "# Gráfico PACF\n",
        "\n",
        "plot_pacf(series, lags=12)\n",
        "plt.title(\"Gráfico PACF (Autocorrelación Parcial)\")\n",
        "plt.show()"
      ]
    },
    {
      "cell_type": "markdown",
      "metadata": {
        "id": "gKbmalz2EHKk"
      },
      "source": [
        "## *2 Intepretación de los resultados*\n",
        "📌 Interpretación de los resultados\n",
        "- Si ADF dice que es estacionaria, pero KPSS dice que no, entonces la serie tiene tendencia y necesita diferenciación.\n",
        "- Si Mann-Kendall detecta tendencia, confirma que la serie tiene un crecimiento o caída sostenida.\n",
        "- Si ACF/PACF muestran picos en ciertos rezagos, esos rezagos se usan para definir p y q en ARIMA.\n",
        "\n",
        "✅ Si solo hay tendencia → Se recomienda Holt (suavizamiento doble) o ARIMA con diferenciación.\n",
        "\n",
        "✅ Si hay tendencia + estacionalidad → Se recomienda Holt-Winters (suavizamiento triple) o SARIMA.\n"
      ]
    },
    {
      "cell_type": "code",
      "execution_count": 12,
      "metadata": {
        "colab": {
          "base_uri": "https://localhost:8080/"
        },
        "id": "KsUEfwZGw3qS",
        "outputId": "3d71af0c-2d5d-4b6c-fe18-c0f091c3f772"
      },
      "outputs": [
        {
          "name": "stdout",
          "output_type": "stream",
          "text": [
            "**** Resumen de Resultados ****\n",
            "\n",
            "\n",
            "\n",
            "Prueba Dickey-Fuller Aumentada (ADF):\n",
            "Estadístico de prueba: 1.1634151775453687\n",
            "p-valor: 0.9957231084311645\n",
            "Valores críticos: {'1%': np.float64(-3.60098336718852), '5%': np.float64(-2.9351348158036012), '10%': np.float64(-2.6059629803688282)}\n",
            "❌ La serie tiene tendencia (no es estacionaria).\n",
            "\n",
            "\n",
            "\n",
            "Prueba KPSS:\n",
            "Estadístico de prueba: 1.000258462326453\n",
            "p-valor: 0.01\n",
            "Valores críticos: {'10%': 0.347, '5%': 0.463, '2.5%': 0.574, '1%': 0.739}\n",
            "❌ La serie tiene tendencia (no es estacionaria).\n",
            "\n",
            "\n",
            "\n",
            "Prueba Mann-Kendall:\n",
            "p-valor: 6.636247107394411e-12\n",
            "Tendencia detectada: decreasing\n",
            "📉 Se detecta una tendencia decreciente.\n"
          ]
        }
      ],
      "source": [
        "print('**** Resumen de Resultados ****')\n",
        "print('\\n')\n",
        "print(\"\\nPrueba Dickey-Fuller Aumentada (ADF):\")\n",
        "print(f\"Estadístico de prueba: {adf_test[0]}\")\n",
        "print(f\"p-valor: {adf_test[1]}\")\n",
        "print(f\"Valores críticos: {adf_test[4]}\")\n",
        "\n",
        "if adf_test[1] < 0.05:\n",
        "    print(\"✅ La serie es estacionaria.\")\n",
        "else:\n",
        "    print(\"❌ La serie tiene tendencia (no es estacionaria).\")\n",
        "print('\\n')\n",
        "print(\"\\nPrueba KPSS:\")\n",
        "print(f\"Estadístico de prueba: {kpss_test[0]}\")\n",
        "print(f\"p-valor: {kpss_test[1]}\")\n",
        "print(f\"Valores críticos: {kpss_test[3]}\")\n",
        "\n",
        "if kpss_test[1] < 0.05:\n",
        "    print(\"❌ La serie tiene tendencia (no es estacionaria).\")\n",
        "else:\n",
        "    print(\"✅ La serie es estacionaria.\")\n",
        "print('\\n')\n",
        "\n",
        "print(\"\\nPrueba Mann-Kendall:\")\n",
        "print(f\"p-valor: {mk_result.p}\")\n",
        "print(f\"Tendencia detectada: {mk_result.trend}\")\n",
        "\n",
        "if mk_result.trend == \"no trend\":\n",
        "    print(\"✅ No hay tendencia significativa.\")\n",
        "elif mk_result.trend == \"increasing\":\n",
        "    print(\"📈 Se detecta una tendencia creciente.\")\n",
        "elif mk_result.trend == \"decreasing\":\n",
        "    print(\"📉 Se detecta una tendencia decreciente.\")"
      ]
    },
    {
      "cell_type": "code",
      "execution_count": 13,
      "metadata": {
        "colab": {
          "base_uri": "https://localhost:8080/"
        },
        "id": "whYAlEAQEKfB",
        "outputId": "8aff4586-3c5d-43d5-953c-b4b3146d1aa0"
      },
      "outputs": [
        {
          "name": "stdout",
          "output_type": "stream",
          "text": [
            "Introduce los resultados de las pruebas estadísticas:\n",
            "\n",
            "🔍 Análisis de resultados:\n",
            "✅ La serie tiene tendencia y estacionalidad.\n",
            "🔹 Recomiendo: **SARIMA** o **Holt-Winters con optimización**.\n"
          ]
        }
      ],
      "source": [
        "def ask_stat_tests():\n",
        "    print(\"Introduce los resultados de las pruebas estadísticas:\")\n",
        "\n",
        "    # Prueba Dickey-Fuller ADF\n",
        "    adf_p_value = float(input(\"📌 Prueba ADF - p-valor (Ejemplo: 0.03): \"))\n",
        "    adf_stationary = adf_p_value < 0.05\n",
        "\n",
        "    # Prueba KPSS\n",
        "    kpss_p_value = float(input(\"📌 Prueba KPSS - p-valor (Ejemplo: 0.07): \"))\n",
        "    kpss_stationary = kpss_p_value > 0.05\n",
        "\n",
        "    # Test Mann-Kendall\n",
        "    mk_trend = input(\"📌 Prueba Mann-Kendall - Tendencia ('no trend', 'increasing' o 'decreasing'): \").lower()\n",
        "\n",
        "    # ACF/PACF\n",
        "    acf_cutoff = int(input(\"📌 Gráfico ACF - ¿En qué rezago se corta la autocorrelación? (Ejemplo: 1, 2, etc.): \"))\n",
        "    pacf_cutoff = int(input(\"📌 Gráfico PACF - ¿En qué rezago se corta la autocorrelación? (Ejemplo: 1, 2, etc.): \"))\n",
        "\n",
        "    return adf_stationary, kpss_stationary, mk_trend, acf_cutoff, pacf_cutoff\n",
        "\n",
        "\n",
        "def recommend_model(adf_stationary, kpss_stationary, mk_trend, acf_cutoff, pacf_cutoff):\n",
        "    print(\"\\n🔍 Análisis de resultados:\")\n",
        "\n",
        "    # Determinar si hay tendencia o estacionalidad\n",
        "    has_trend = mk_trend in [\"increasing\", \"decreasing\"]\n",
        "    has_seasonality = acf_cutoff >= 2 or pacf_cutoff >= 2\n",
        "\n",
        "    # Recomendaciones de modelos\n",
        "    if adf_stationary and kpss_stationary and mk_trend == \"no trend\":\n",
        "        print(\"✅ La serie es estacionaria sin tendencia ni estacionalidad.\")\n",
        "        print(\"🔹 Recomiendo: **Suavizamiento Exponencial Simple** o **ARMA (ARIMA sin diferenciación)**.\")\n",
        "    elif has_trend and not has_seasonality:\n",
        "        print(\"✅ La serie tiene tendencia, pero no estacionalidad.\")\n",
        "        print(\"🔹 Recomiendo: **Suavizamiento Exponencial Doble (Holt)** o **ARIMA con d=1**.\")\n",
        "    elif has_seasonality and not has_trend:\n",
        "        print(\"✅ La serie tiene estacionalidad, pero no tendencia.\")\n",
        "        print(\"🔹 Recomiendo: **Suavizamiento Exponencial Triple (Holt-Winters)** o **SARIMA**.\")\n",
        "    elif has_trend and has_seasonality:\n",
        "        print(\"✅ La serie tiene tendencia y estacionalidad.\")\n",
        "        print(\"🔹 Recomiendo: **SARIMA** o **Holt-Winters con optimización**.\")\n",
        "    else:\n",
        "        print(\"⚠️ No se pudo determinar claramente un patrón. Puedes revisar los datos o probar modelos híbridos.\")\n",
        "\n",
        "# Ejecutar el código\n",
        "adf_stationary, kpss_stationary, mk_trend, acf_cutoff, pacf_cutoff = ask_stat_tests()\n",
        "recommend_model(adf_stationary, kpss_stationary, mk_trend, acf_cutoff, pacf_cutoff)"
      ]
    },
    {
      "cell_type": "markdown",
      "metadata": {
        "id": "Iz-C5jkpHPd_"
      },
      "source": [
        "## *3 Modelos de predicción*"
      ]
    },
    {
      "cell_type": "markdown",
      "metadata": {
        "id": "Sa0obs7ROFtK"
      },
      "source": [
        "### *3.1 Exponential Smoothing & ARIMA*"
      ]
    },
    {
      "cell_type": "code",
      "execution_count": 14,
      "metadata": {
        "colab": {
          "base_uri": "https://localhost:8080/"
        },
        "id": "tcVw_fj7Pt-Q",
        "outputId": "e5740d28-8347-431e-ebc1-f45679b17fc0"
      },
      "outputs": [
        {
          "name": "stdout",
          "output_type": "stream",
          "text": [
            "Fecha más reciente: 2025-01-05 00:00:00\n",
            "ES Forecast:\n",
            "         date       es_fore  actuals\n",
            "0  2024-10-01  81869.439430        0\n",
            "1  2024-11-01  83655.924773        0\n",
            "2  2024-12-01  82610.944997        0\n",
            "3  2025-01-01  82182.326387    81019\n",
            "4  2025-02-01  82182.326387        0\n",
            "5  2025-03-01  82182.326387        0\n",
            "6  2025-04-01  82182.326387        0\n",
            "\n",
            "ARIMA Forecast:\n",
            "         date  actuals       es_fore         arima\n",
            "0  2024-10-01        0  81869.439430  84785.288060\n",
            "1  2024-11-01        0  83655.924773  88237.196555\n",
            "2  2024-12-01        0  82610.944997  83207.537917\n",
            "3  2025-01-01    81019  82182.326387  82057.941261\n",
            "4  2025-02-01        0  82182.326387  87326.958637\n",
            "5  2025-03-01        0  82182.326387  85042.706284\n",
            "6  2025-04-01        0  82182.326387  89078.932756\n",
            "\n",
            "\n",
            "MSE_ES: 6384605364.339906\n",
            "MSE_ARIMA: 6384605364.339906\n",
            "\n",
            "\n",
            "MAE:_ES <bound method Series.mean of 0    84785.288060\n",
            "1    88237.196555\n",
            "2    83207.537917\n",
            "3     1038.941261\n",
            "4    87326.958637\n",
            "5    85042.706284\n",
            "6    89078.932756\n",
            "dtype: float64>\n",
            "MAE_ARIMA: <bound method Series.mean of 0    84785.288060\n",
            "1    88237.196555\n",
            "2    83207.537917\n",
            "3     1038.941261\n",
            "4    87326.958637\n",
            "5    85042.706284\n",
            "6    89078.932756\n",
            "dtype: float64>\n"
          ]
        }
      ],
      "source": [
        "import pandas as pd\n",
        "from statsmodels.tsa.holtwinters import SimpleExpSmoothing\n",
        "\n",
        "# Crear df_working\n",
        "df_working = df_baking.copy()\n",
        "\n",
        "\n",
        "# Identifica la fecha más reciente del dataset\n",
        "max_date = df_working['date'].max()\n",
        "print(\"Fecha más reciente:\", max_date)\n",
        "\n",
        "# Crear la serie de datos\n",
        "series_fore = df_baking[['date', 'calls']]\n",
        "\n",
        "# Ajustar el modelo de suavizamiento exponencial\n",
        "model = SimpleExpSmoothing(series_fore['calls']).fit(optimized=True)\n",
        "\n",
        "# Generar pronóstico pasado: desde 3 periodos antes de la fecha más reciente\n",
        "past_periods = 3\n",
        "past_dates = pd.date_range(start=max_date - pd.DateOffset(months=past_periods), periods=past_periods, freq='M')\n",
        "pastfore = pd.DataFrame({'date': past_dates, 'calls': model.predict(start=len(series_fore)-past_periods, end=len(series_fore)-1)})\n",
        "\n",
        "# Generar pronóstico futuro: desde el periodo posterior a la fecha más reciente hasta 4 meses después\n",
        "future_periods = 4\n",
        "future_dates = pd.date_range(start=max_date, periods=future_periods, freq='M')\n",
        "futurefore = pd.DataFrame({'date': future_dates, 'calls': model.forecast(future_periods)})\n",
        "\n",
        "# Consolidar pronósticos en un DataFrame sin modificar el índice\n",
        "cons_fore = pd.concat([pastfore, futurefore], ignore_index=True)\n",
        "\n",
        "# Asegurar que las fechas tengan formato YYYY-MM-DD con día fijo 01\n",
        "cons_fore['date'] = pd.to_datetime(cons_fore['date']).dt.strftime('%Y-%m-01')\n",
        "\n",
        "# Crear el nuevo dataframe act_vs_fore\n",
        "act_vs_fore = cons_fore.copy()\n",
        "\n",
        "# Agregar la columna 'actuals' con valores de df_working['calls'] cuando las fechas coincidan\n",
        "act_vs_fore['actuals'] = act_vs_fore['date'].map(lambda d: df_working.loc[df_working['date'] == d, 'calls'].values[0] if d in df_working['date'].astype(str).values else 0)\n",
        "\n",
        "# Cambia el nombre a la columna act_vs_fore['calls'] por es_fore\n",
        "act_vs_fore.rename(columns={'calls': 'es_fore'}, inplace=True)\n",
        "\n",
        "import pandas as pd\n",
        "from statsmodels.tsa.arima.model import ARIMA\n",
        "\n",
        "# Crear df_arima como copia de df_baking\n",
        "df_arima = df_baking.copy()\n",
        "\n",
        "# Asegurar que 'date' esté en formato datetime\n",
        "df_arima['date'] = pd.to_datetime(df_arima['date'])\n",
        "\n",
        "# Crear la serie de datos para ARIMA\n",
        "series_arima = df_arima[['date', 'calls']]\n",
        "\n",
        "# Ajustar el modelo ARIMA sin diferenciación (d=0)\n",
        "arima_model = ARIMA(series_arima['calls'], order=(2, 0, 2)).fit()\n",
        "\n",
        "# Identificar la fecha más reciente en el dataset\n",
        "max_date = df_arima['date'].max()\n",
        "\n",
        "# Generar pronóstico pasado: desde 3 periodos antes de la fecha más reciente\n",
        "past_periods = 3\n",
        "past_dates = pd.date_range(start=max_date - pd.DateOffset(months=past_periods), periods=past_periods, freq='M')\n",
        "past_forecast = arima_model.predict(start=len(series_arima)-past_periods-1, end=len(series_arima)-2)\n",
        "\n",
        "# Generar pronóstico futuro: desde el periodo posterior a la fecha más reciente hasta 4 meses después\n",
        "future_periods = 4\n",
        "future_dates = pd.date_range(start=max_date, periods=future_periods, freq='M')\n",
        "future_forecast = arima_model.forecast(steps=future_periods)\n",
        "\n",
        "# Crear DataFrames con los pronósticos pasados y futuros\n",
        "df_arima_past = pd.DataFrame({'date': past_dates, 'arima_calls': past_forecast.values})\n",
        "df_arima_future = pd.DataFrame({'date': future_dates, 'arima_calls': future_forecast.values})\n",
        "\n",
        "# Unir ambos pronósticos en un solo dataframe\n",
        "df_arima_forecast = pd.concat([df_arima_past, df_arima_future], ignore_index=True)\n",
        "\n",
        "# Asegurar que todas las fechas tengan el día 01 del mes\n",
        "df_arima_forecast['date'] = df_arima_forecast['date'].dt.strftime('%Y-%m-01')\n",
        "df_arima_forecast['date'] = pd.to_datetime(df_arima_forecast['date'])\n",
        "\n",
        "\n",
        "# Crear el nuevo dataframe comparison como copia de cons_fore\n",
        "comparison = act_vs_fore.copy()\n",
        "\n",
        "# Agregar una columna al dataframe comparison llamada ['arima']\n",
        "comparison['arima'] = df_arima_forecast['arima_calls']\n",
        "\n",
        "# Cambia el orden del dataframe pon date actuals es_fore arima\n",
        "comparison = comparison[['date', 'actuals', 'es_fore', 'arima']]\n",
        "\n",
        "# Mostrar el resultado final\n",
        "print(\"ES Forecast:\")\n",
        "print(act_vs_fore)\n",
        "print(\"\\nARIMA Forecast:\")\n",
        "print(comparison)\n",
        "\n",
        "# Calcula las estadísticas de desempeño del pronóstico\n",
        "mse = ((act_vs_fore['actuals'] - act_vs_fore['es_fore']) ** 2).mean()\n",
        "mae = (abs(act_vs_fore['actuals'] - act_vs_fore['es_fore'])).mean\n",
        "\n",
        "\n",
        "# Calcular las estadísticas de desempeño del pronóstico arima\n",
        "mse = ((comparison['actuals'] - comparison['arima']) ** 2).mean()\n",
        "mae = (abs(comparison['actuals'] - comparison['arima'])).mean\n",
        "print('\\n')\n",
        "print(\"MSE_ES:\", mse)\n",
        "print(\"MSE_ARIMA:\", mse)\n",
        "print('\\n')\n",
        "print(\"MAE:_ES\", mae)\n",
        "print(\"MAE_ARIMA:\", mae)\n",
        "\n",
        "\n"
      ]
    },
    {
      "cell_type": "markdown",
      "metadata": {
        "id": "KZy19M9cZZAV"
      },
      "source": [
        "### *3.2 Holt & ARIMA d=1*"
      ]
    },
    {
      "cell_type": "code",
      "execution_count": 26,
      "metadata": {
        "colab": {
          "base_uri": "https://localhost:8080/"
        },
        "id": "3U_LowMtXDqy",
        "outputId": "6fe6a7fc-2d58-48b8-980c-5b735b356c62"
      },
      "outputs": [
        {
          "name": "stdout",
          "output_type": "stream",
          "text": [
            "Fecha más reciente: 2025-01-05 00:00:00\n"
          ]
        },
        {
          "name": "stderr",
          "output_type": "stream",
          "text": [
            "/workspaces/forecast_work_prework/.venv/lib/python3.12/site-packages/statsmodels/tsa/holtwinters/model.py:918: ConvergenceWarning: Optimization failed to converge. Check mle_retvals.\n",
            "  warnings.warn(\n"
          ]
        },
        {
          "name": "stdout",
          "output_type": "stream",
          "text": [
            "DES Forecast (Double Exponential Smoothing):\n",
            "        date      des_fore  actuals\n",
            "0 2024-10-31  77608.202529        0\n",
            "1 2024-11-30  80947.375190        0\n",
            "2 2024-12-31  79937.869813        0\n",
            "3 2025-01-31  79735.867597        0\n",
            "4 2025-02-28  78400.017088        0\n",
            "5 2025-03-31  77064.166578        0\n",
            "6 2025-04-30  75728.316068        0\n",
            "\n",
            "ARIMA with d=1 Forecast (ARIMAD1):\n",
            "        date  actuals      des_fore       ARIMAD1\n",
            "0 2024-10-31        0  77608.202529  75314.947210\n",
            "1 2024-11-30        0  80947.375190  83181.667855\n",
            "2 2024-12-31        0  79937.869813  86769.365151\n",
            "3 2025-01-31        0  79735.867597  75131.265723\n",
            "4 2025-02-28        0  78400.017088  81563.505933\n",
            "5 2025-03-31        0  77064.166578  76879.596267\n",
            "6 2025-04-30        0  75728.316068  78752.952385\n",
            "\n",
            "\n",
            "MSE_DES: 6163372652.28451\n",
            "MAE_DES: 78488.83069482163\n",
            "MSE_ARIMAD1: 6361466612.826765\n",
            "MAE_ARIMAD1: 79656.18578908111\n"
          ]
        },
        {
          "name": "stderr",
          "output_type": "stream",
          "text": [
            "/workspaces/forecast_work_prework/.venv/lib/python3.12/site-packages/statsmodels/base/model.py:607: ConvergenceWarning: Maximum Likelihood optimization failed to converge. Check mle_retvals\n",
            "  warnings.warn(\"Maximum Likelihood optimization failed to \"\n"
          ]
        }
      ],
      "source": [
        "import pandas as pd\n",
        "from statsmodels.tsa.holtwinters import Holt\n",
        "from statsmodels.tsa.arima.model import ARIMA\n",
        "\n",
        "# =============================================================================\n",
        "# Modelos con Suavizamiento Doble (Holt) – _DES\n",
        "# =============================================================================\n",
        "\n",
        "# Crear df_des como copia de df_baking (para el modelo de doble suavizamiento)\n",
        "df_des = df_baking.copy()\n",
        "\n",
        "# Identificar la fecha más reciente del dataset\n",
        "max_date = df_des['date'].max()\n",
        "print(\"Fecha más reciente:\", max_date)\n",
        "\n",
        "# Crear la serie de datos\n",
        "series_fore = df_des[['date', 'calls']]\n",
        "\n",
        "# Ajustar el modelo de suavizamiento doble (Holt)\n",
        "holt_model = Holt(series_fore['calls']).fit(optimized=True)\n",
        "\n",
        "# --- Pronóstico pasado DES:\n",
        "# Generar pronóstico pasado: desde 3 periodos antes de la fecha más reciente\n",
        "past_periods = 3\n",
        "past_dates = pd.date_range(start=max_date - pd.DateOffset(months=past_periods),\n",
        "                           periods=past_periods, freq='M')\n",
        "# Predecimos usando índices: de len(series_fore)-past_periods hasta len(series_fore)-1\n",
        "past_forecast_DES = holt_model.predict(start=len(series_fore) - past_periods,\n",
        "                                        end=len(series_fore) - 1)\n",
        "df_des_past = pd.DataFrame({'date': past_dates, 'calls': past_forecast_DES.values})\n",
        "\n",
        "# --- Pronóstico futuro DES:\n",
        "# Generar pronóstico futuro: desde la fecha más reciente hasta 4 meses después\n",
        "future_periods = 4\n",
        "future_dates = pd.date_range(start=max_date, periods=future_periods, freq='M')\n",
        "future_forecast_DES = holt_model.forecast(future_periods)\n",
        "df_des_future = pd.DataFrame({'date': future_dates, 'calls': future_forecast_DES.values})\n",
        "\n",
        "# Consolidar pronósticos en un DataFrame sin modificar el índice\n",
        "cons_fore_DES = pd.concat([df_des_past, df_des_future], ignore_index=True)\n",
        "\n",
        "\n",
        "\n",
        "# Crear el dataframe de trabajo para comparar pronósticos DES con datos reales\n",
        "act_vs_fore_DES = cons_fore_DES.copy()\n",
        "# Al mapear la columna 'actuals' se convierte la fecha en el mismo formato (YYYY-MM-01)\n",
        "act_vs_fore_DES['actuals'] = act_vs_fore_DES['date'].map(\n",
        "    lambda d: df_des.loc[df_des['date'] == d, 'calls'].values[0]\n",
        "              if d in df_des['date'].dt.strftime('%Y-%m-01').values else 0\n",
        ")\n",
        "# Renombrar la columna con los resultados del pronóstico DES\n",
        "act_vs_fore_DES.rename(columns={'calls': 'des_fore'}, inplace=True)\n",
        "\n",
        "# =============================================================================\n",
        "# Modelo ARIMA con d=1 – ARIMAD1\n",
        "# =============================================================================\n",
        "\n",
        "# Crear df_arimad1 como copia de df_baking\n",
        "df_arimad1 = df_baking.copy()\n",
        "df_arimad1['date'] = pd.to_datetime(df_arimad1['date'])\n",
        "\n",
        "# Crear la serie de datos para ARIMA con diferenciación d=1\n",
        "series_arimad1 = df_arimad1[['date', 'calls']]\n",
        "\n",
        "# Ajustar el modelo ARIMA con diferenciación de primer orden, por ejemplo order=(2,1,2)\n",
        "arima_model_d1 = ARIMA(series_arimad1['calls'], order=(2, 1, 2)).fit()\n",
        "\n",
        "# Identificar la fecha más reciente en df_arimad1\n",
        "max_date_arima = df_arimad1['date'].max()\n",
        "\n",
        "# --- Pronóstico pasado ARIMAD1:\n",
        "past_dates_arima = pd.date_range(start=max_date_arima - pd.DateOffset(months=past_periods),\n",
        "                                 periods=past_periods, freq='M')\n",
        "# Para ARIMA usamos predict() sobre los últimos 'past_periods' registros\n",
        "past_forecast_ARIMAD1 = arima_model_d1.predict(start=len(series_arimad1) - past_periods,\n",
        "                                               end=len(series_arimad1) - 1)\n",
        "df_arimad1_past = pd.DataFrame({'date': past_dates_arima, 'arimad1_calls': past_forecast_ARIMAD1.values})\n",
        "\n",
        "# --- Pronóstico futuro ARIMAD1:\n",
        "future_dates_arima = pd.date_range(start=max_date_arima, periods=future_periods, freq='M')\n",
        "future_forecast_ARIMAD1 = arima_model_d1.forecast(steps=future_periods)\n",
        "df_arimad1_future = pd.DataFrame({'date': future_dates_arima, 'arimad1_calls': future_forecast_ARIMAD1.values})\n",
        "\n",
        "# Unir ambos pronósticos en un solo dataframe de ARIMA con d=1\n",
        "df_arimad1_forecast = pd.concat([df_arimad1_past, df_arimad1_future], ignore_index=True)\n",
        "df_arimad1_forecast['date'] = pd.to_datetime(df_arimad1_forecast['date']).dt.strftime('%Y-%m-01')\n",
        "df_arimad1_forecast['date'] = pd.to_datetime(df_arimad1_forecast['date'])\n",
        "\n",
        "# =============================================================================\n",
        "# Comparación de Pronósticos (DES vs ARIMAD1)\n",
        "# =============================================================================\n",
        "\n",
        "# Crear el dataframe comparison como copia de act_vs_fore_DES\n",
        "comparison = act_vs_fore_DES.copy()\n",
        "\n",
        "# Agregar una nueva columna 'ARIMAD1' asignándole los resultados del pronóstico ARIMA en las fechas correspondientes\n",
        "comparison['ARIMAD1'] = df_arimad1_forecast['arimad1_calls']\n",
        "\n",
        "# Reordenar las columnas: date, actuals, des_fore, ARIMAD1\n",
        "comparison = comparison[['date', 'actuals', 'des_fore', 'ARIMAD1']]\n",
        "\n",
        "# Mostrar resultados finales\n",
        "print(\"DES Forecast (Double Exponential Smoothing):\")\n",
        "print(act_vs_fore_DES)\n",
        "print(\"\\nARIMA with d=1 Forecast (ARIMAD1):\")\n",
        "print(comparison)\n",
        "\n",
        "# =============================================================================\n",
        "# Cálculo de Estadísticas de Desempeño\n",
        "# =============================================================================\n",
        "\n",
        "# Para el pronóstico DES\n",
        "mse_DES = ((act_vs_fore_DES['actuals'] - act_vs_fore_DES['des_fore']) ** 2).mean()\n",
        "mae_DES = (abs(act_vs_fore_DES['actuals'] - act_vs_fore_DES['des_fore'])).mean()\n",
        "\n",
        "# Para el pronóstico ARIMAD1\n",
        "mse_ARIMAD1 = ((comparison['actuals'] - comparison['ARIMAD1']) ** 2).mean()\n",
        "mae_ARIMAD1 = (abs(comparison['actuals'] - comparison['ARIMAD1'])).mean()\n",
        "\n",
        "print('\\n')\n",
        "print(\"MSE_DES:\", mse_DES)\n",
        "print(\"MAE_DES:\", mae_DES)\n",
        "print(\"MSE_ARIMAD1:\", mse_ARIMAD1)\n",
        "print(\"MAE_ARIMAD1:\", mae_ARIMAD1)"
      ]
    },
    {
      "cell_type": "markdown",
      "metadata": {
        "id": "kQhHFfmdZn24"
      },
      "source": [
        "### *3.3 Holt-Winters & SARIMA*"
      ]
    },
    {
      "cell_type": "code",
      "execution_count": 16,
      "metadata": {
        "colab": {
          "base_uri": "https://localhost:8080/"
        },
        "id": "x9lGmaVKZorL",
        "outputId": "4ae348d4-d639-4a9d-a7cf-438ccc7f74bb"
      },
      "outputs": [
        {
          "name": "stdout",
          "output_type": "stream",
          "text": [
            "Fecha más reciente (Holt-Winters): 2025-01-05 00:00:00\n"
          ]
        },
        {
          "name": "stderr",
          "output_type": "stream",
          "text": [
            "/workspaces/forecast_work_prework/.venv/lib/python3.12/site-packages/statsmodels/tsa/holtwinters/model.py:918: ConvergenceWarning: Optimization failed to converge. Check mle_retvals.\n",
            "  warnings.warn(\n"
          ]
        },
        {
          "name": "stdout",
          "output_type": "stream",
          "text": [
            "\n",
            "SARIMA Forecast (with optimization):\n",
            "        date  actuals       hw_fore        SARIMA\n",
            "0 2024-10-01        0  94812.497075  84712.195126\n",
            "1 2024-11-01        0  76733.467161  83051.502373\n",
            "2 2024-12-01        0  83236.867412  84180.774741\n",
            "3 2025-01-01    81019  79570.863382  77310.583324\n",
            "4 2025-02-01        0  77903.964148  74306.090159\n",
            "5 2025-03-01        0  81966.343990  76151.120194\n",
            "6 2025-04-01        0  79993.521406  66426.366500\n",
            "\n",
            "Performance Metrics:\n",
            "MSE_HW: 5856340060.661627\n",
            "MAE_HW: 70870.68540159774\n",
            "MSE_SARIMA: 5272387649.643827\n",
            "MAE_SARIMA: 67505.2093955209\n"
          ]
        },
        {
          "name": "stderr",
          "output_type": "stream",
          "text": [
            "/workspaces/forecast_work_prework/.venv/lib/python3.12/site-packages/statsmodels/base/model.py:607: ConvergenceWarning: Maximum Likelihood optimization failed to converge. Check mle_retvals\n",
            "  warnings.warn(\"Maximum Likelihood optimization failed to \"\n"
          ]
        }
      ],
      "source": [
        "import pandas as pd\n",
        "from statsmodels.tsa.holtwinters import ExponentialSmoothing\n",
        "from statsmodels.tsa.statespace.sarimax import SARIMAX\n",
        "\n",
        "# =============================================================================\n",
        "# PARTE 1: Suavizamiento Exponencial TRIPLE (Holt-Winters) CON OPTIMIZACIÓN\n",
        "# =============================================================================\n",
        "\n",
        "# Crear df_hw como copia de df_baking para el modelo Holt-Winters\n",
        "df_hw = df_baking.copy()\n",
        "df_hw['date'] = pd.to_datetime(df_hw['date'])\n",
        "\n",
        "# Identificar la fecha más reciente en df_hw\n",
        "max_date_hw = df_hw['date'].max()\n",
        "print(\"Fecha más reciente (Holt-Winters):\", max_date_hw)\n",
        "\n",
        "# Crear la serie de datos para HW\n",
        "series_hw = df_hw[['date', 'calls']]\n",
        "\n",
        "# Ajustar el modelo de Holt-Winters (triple exponencial) con optimización\n",
        "hw_model = ExponentialSmoothing(series_hw['calls'],\n",
        "                                trend='add',\n",
        "                                seasonal='add',\n",
        "                                seasonal_periods=12).fit(optimized=True)\n",
        "\n",
        "# --- Pronóstico pasado (3 períodos) para Holt-Winters\n",
        "past_periods = 3\n",
        "past_dates_hw = pd.date_range(start=max_date_hw - pd.DateOffset(months=past_periods),\n",
        "                              periods=past_periods, freq='M')\n",
        "past_forecast_HW = hw_model.predict(start=len(series_hw) - past_periods,\n",
        "                                    end=len(series_hw) - 1)\n",
        "df_hw_past = pd.DataFrame({'date': past_dates_hw, 'calls': past_forecast_HW.values})\n",
        "\n",
        "# --- Pronóstico futuro (4 períodos) para Holt-Winters\n",
        "future_periods = 4\n",
        "future_dates_hw = pd.date_range(start=max_date_hw, periods=future_periods, freq='M')\n",
        "future_forecast_HW = hw_model.forecast(future_periods)\n",
        "df_hw_future = pd.DataFrame({'date': future_dates_hw, 'calls': future_forecast_HW.values})\n",
        "\n",
        "# Consolidar pronósticos en un DataFrame\n",
        "cons_fore_HW = pd.concat([df_hw_past, df_hw_future], ignore_index=True)\n",
        "\n",
        "# Asegurar que las fechas tengan siempre el día 01 del mes\n",
        "cons_fore_HW['date'] = pd.to_datetime(cons_fore_HW['date']).dt.strftime('%Y-%m-01')\n",
        "cons_fore_HW['date'] = pd.to_datetime(cons_fore_HW['date'])\n",
        "\n",
        "# Crear el dataframe act_vs_fore_HW para comparación (datos reales vs HW)\n",
        "act_vs_fore_HW = cons_fore_HW.copy()\n",
        "act_vs_fore_HW['actuals'] = act_vs_fore_HW['date'].map(\n",
        "    lambda d: df_hw.loc[df_hw['date'].dt.strftime('%Y-%m-01') == d.strftime('%Y-%m-01'), 'calls'].values[0]\n",
        "    if (df_hw['date'].dt.strftime('%Y-%m-01') == d.strftime('%Y-%m-01')).any() else 0\n",
        ")\n",
        "# Renombrar la columna de pronóstico a 'hw_fore'\n",
        "act_vs_fore_HW.rename(columns={'calls': 'hw_fore'}, inplace=True)\n",
        "\n",
        "# =============================================================================\n",
        "# PARTE 2: Modelo SARIMA CON OPTIMIZACIÓN\n",
        "# =============================================================================\n",
        "\n",
        "# Crear df_sarima como copia de df_baking para el modelo SARIMA\n",
        "df_sarima = df_baking.copy()\n",
        "df_sarima['date'] = pd.to_datetime(df_sarima['date'])\n",
        "\n",
        "# Identificar la fecha más reciente en df_sarima\n",
        "max_date_sarima = df_sarima['date'].max()\n",
        "\n",
        "# Crear la serie de datos para SARIMA\n",
        "series_sarima = df_sarima[['date', 'calls']]\n",
        "\n",
        "# Ajustar el modelo SARIMA: (2,1,2) con estacionalidad (1,1,1,12)\n",
        "sarima_model = SARIMAX(series_sarima['calls'],\n",
        "                       order=(2, 1, 2),\n",
        "                       seasonal_order=(1, 1, 1, 12)).fit(disp=False)\n",
        "\n",
        "# --- Pronóstico pasado (3 períodos) para SARIMA\n",
        "past_dates_sarima = pd.date_range(start=max_date_sarima - pd.DateOffset(months=past_periods),\n",
        "                                  periods=past_periods, freq='M')\n",
        "past_forecast_SARIMA = sarima_model.predict(start=len(series_sarima) - past_periods,\n",
        "                                            end=len(series_sarima) - 1)\n",
        "df_sarima_past = pd.DataFrame({'date': past_dates_sarima, 'sarima_calls': past_forecast_SARIMA.values})\n",
        "\n",
        "# --- Pronóstico futuro (4 períodos) para SARIMA\n",
        "future_dates_sarima = pd.date_range(start=max_date_sarima, periods=future_periods, freq='M')\n",
        "future_forecast_SARIMA = sarima_model.forecast(steps=future_periods)\n",
        "df_sarima_future = pd.DataFrame({'date': future_dates_sarima, 'sarima_calls': future_forecast_SARIMA.values})\n",
        "\n",
        "# Unir ambos pronósticos en un DataFrame para SARIMA\n",
        "df_sarima_forecast = pd.concat([df_sarima_past, df_sarima_future], ignore_index=True)\n",
        "df_sarima_forecast['date'] = pd.to_datetime(df_sarima_forecast['date']).dt.strftime('%Y-%m-01')\n",
        "df_sarima_forecast['date'] = pd.to_datetime(df_sarima_forecast['date'])\n",
        "\n",
        "# =============================================================================\n",
        "# PARTE 3: Construcción del DataFrame de Comparación\n",
        "# =============================================================================\n",
        "\n",
        "# Crear el DataFrame comparison como copia de act_vs_fore_HW\n",
        "comparison = act_vs_fore_HW.copy()\n",
        "\n",
        "# Agregar la columna 'SARIMA' con los resultados del pronóstico SARIMA para las fechas correspondientes\n",
        "comparison['SARIMA'] = comparison['date'].map(\n",
        "    lambda d: df_sarima_forecast.loc[df_sarima_forecast['date'] == d, 'sarima_calls'].values[0]\n",
        "    if d in df_sarima_forecast['date'].values else 0\n",
        ")\n",
        "\n",
        "# Reordenar columnas: date, actuals, hw_fore, SARIMA\n",
        "comparison = comparison[['date', 'actuals', 'hw_fore', 'SARIMA']]\n",
        "\n",
        "# =============================================================================\n",
        "# Mostrar resultados y calcular métricas de desempeño\n",
        "# =============================================================================\n",
        "\n",
        "\n",
        "print(\"\\nSARIMA Forecast (with optimization):\")\n",
        "print(comparison)\n",
        "\n",
        "# Métricas de desempeño:\n",
        "mse_HW = ((act_vs_fore_HW['actuals'] - act_vs_fore_HW['hw_fore']) ** 2).mean()\n",
        "mae_HW = (abs(act_vs_fore_HW['actuals'] - act_vs_fore_HW['hw_fore'])).mean()\n",
        "mse_SARIMA = ((comparison['actuals'] - comparison['SARIMA']) ** 2).mean()\n",
        "mae_SARIMA = (abs(comparison['actuals'] - comparison['SARIMA'])).mean()\n",
        "\n",
        "print(\"\\nPerformance Metrics:\")\n",
        "print(\"MSE_HW:\", mse_HW)\n",
        "print(\"MAE_HW:\", mae_HW)\n",
        "print(\"MSE_SARIMA:\", mse_SARIMA)\n",
        "print(\"MAE_SARIMA:\", mae_SARIMA)"
      ]
    },
    {
      "cell_type": "markdown",
      "metadata": {
        "id": "IQrhUKuIcvPE"
      },
      "source": [
        "### *3.4 Prophet*"
      ]
    },
    {
      "cell_type": "code",
      "execution_count": 28,
      "metadata": {
        "colab": {
          "base_uri": "https://localhost:8080/",
          "height": 1000
        },
        "id": "JDr5rnp0cxgi",
        "outputId": "19447d41-1de1-4ad3-a56a-087d8f958b9c"
      },
      "outputs": [
        {
          "name": "stderr",
          "output_type": "stream",
          "text": [
            "06:33:12 - cmdstanpy - INFO - Chain [1] start processing\n"
          ]
        },
        {
          "name": "stderr",
          "output_type": "stream",
          "text": [
            "06:33:12 - cmdstanpy - INFO - Chain [1] done processing\n"
          ]
        },
        {
          "name": "stdout",
          "output_type": "stream",
          "text": [
            "           ds           yhat     yhat_lower     yhat_upper\n",
            "52 2025-01-05   87006.493360   77528.611525   96633.845852\n",
            "53 2025-02-01  817588.459076  807570.886215  827603.134225\n",
            "54 2025-03-01 -540740.581935 -550209.893496 -531086.015774\n",
            "55 2025-04-01 -262333.138487 -271747.511169 -252680.871640\n",
            "56 2025-05-01    4337.464976   -5468.323112   13799.317212\n"
          ]
        },
        {
          "data": {
            "image/png": "[encoded data removed]",
            "text/plain": [
              "<Figure size 1000x600 with 1 Axes>"
            ]
          },
          "metadata": {},
          "output_type": "display_data"
        },
        {
          "data": {
            "image/png": "[encoded data removed]",
            "text/plain": [
              "<Figure size 900x600 with 2 Axes>"
            ]
          },
          "metadata": {},
          "output_type": "display_data"
        }
      ],
      "source": [
        "import pandas as pd\n",
        "from prophet import Prophet  # Asegúrate de tener instalado 'prophet' (pip install prophet)\n",
        "import matplotlib.pyplot as plt\n",
        "\n",
        "# ---------------------------------------------------------------------------\n",
        "# Preparación de los datos para Prophet (datos mensuales)\n",
        "# ---------------------------------------------------------------------------\n",
        "df_prophet = df_baking.copy()\n",
        "df_prophet['ds'] = df_prophet['date']\n",
        "df_prophet['y'] = df_prophet['calls']\n",
        "df_prophet = df_prophet[['ds', 'y']]\n",
        "df_prophet = df_prophet.sort_values('ds')  # Asegurar que los datos estén ordenados\n",
        "\n",
        "# ---------------------------------------------------------------------------\n",
        "# Instanciación y ajuste del modelo Prophet\n",
        "# ---------------------------------------------------------------------------\n",
        "# Se ajusta para trabajar con datos mensuales:\n",
        "# - growth: lineal\n",
        "# - changepoint_prior_scale: 0.1 (un valor intermedio para dar algo de flexibilidad sin sobre-ajustar)\n",
        "# - seasonality_mode: 'additive' (para que las fluctuaciones estacionales sean constantes en magnitud)\n",
        "# - yearly_seasonality: activada (se espera un ciclo anual)\n",
        "# - weekly_seasonality y daily_seasonality: desactivadas (ya que los datos son mensuales)\n",
        "# - n_changepoints: reducido a 10 para evitar demasiados puntos de cambio en series con pocos datos\n",
        "model = Prophet(\n",
        "    growth='linear',\n",
        "    changepoint_prior_scale=0.1,\n",
        "    seasonality_mode='additive',\n",
        "    yearly_seasonality=True,\n",
        "    weekly_seasonality=False,\n",
        "    daily_seasonality=False,\n",
        "    n_changepoints=10\n",
        ")\n",
        "\n",
        "# Ajustar (fit) el modelo, la optimización interna se realiza durante el fit\n",
        "model.fit(df_prophet)\n",
        "\n",
        "# ---------------------------------------------------------------------------\n",
        "# Creación del DataFrame futuro y pronóstico\n",
        "# ---------------------------------------------------------------------------\n",
        "# Como los datos son mensuales, usamos 'MS' (Month Start) para generar fechas con día 01.\n",
        "# Se pronostican los próximos 4 meses.\n",
        "future = model.make_future_dataframe(periods=4, freq='MS')\n",
        "forecast = model.predict(future)\n",
        "\n",
        "# Mostrar las últimas filas del pronóstico\n",
        "print(forecast[['ds', 'yhat', 'yhat_lower', 'yhat_upper']].tail())\n",
        "\n",
        "# ---------------------------------------------------------------------------\n",
        "# Graficar el pronóstico y los componentes\n",
        "# ---------------------------------------------------------------------------\n",
        "fig1 = model.plot(forecast)\n",
        "plt.title('Pronóstico con Prophet (datos mensuales)')\n",
        "plt.xlabel('Fecha')\n",
        "plt.ylabel('Calls')\n",
        "plt.show()\n",
        "\n",
        "fig2 = model.plot_components(forecast)\n",
        "plt.show()"
      ]
    },
    {
      "cell_type": "code",
      "execution_count": null,
      "metadata": {
        "colab": {
          "base_uri": "https://localhost:8080/"
        },
        "id": "fPqpKyQ6efkW",
        "outputId": "612fe187-be98-47b5-9898-7253f405b66b"
      },
      "outputs": [
        {
          "name": "stdout",
          "output_type": "stream",
          "text": [
            "Diccionario de resultados guardado en 'model_results.pkl'\n"
          ]
        }
      ],
      "source": [
        "import pickle\n",
        "\n",
        "# Crear diccionario de resultados\n",
        "model_results = {\n",
        "    'HoltWinters': {\n",
        "        'forecast': act_vs_fore_HW,  # DataFrame con date, actuals y hw_fore\n",
        "        'metrics': {\n",
        "            'MSE': mse_HW,\n",
        "            'MAE': mae_HW\n",
        "        }\n",
        "    },\n",
        "    'SARIMA': {\n",
        "        'forecast': comparison,  # DataFrame con date, actuals y SARIMA\n",
        "        'metrics': {\n",
        "            'MSE': mse_SARIMA,\n",
        "            'MAE': mae_SARIMA\n",
        "        },\n",
        "        'model_summary': sarima_model.summary().as_text()  # Resumen del modelo SARIMA (opcional)\n",
        "    },\n",
        "    'Prophet': {\n",
        "        'forecast': forecast[['ds', 'yhat', 'yhat_lower', 'yhat_upper']],  # Pronóstico de Prophet\n",
        "        'model_params': model.params  # Parámetros ajustados del modelo Prophet\n",
        "    }\n",
        "}\n",
        "\n",
        "# Guardar el diccionario en un archivo 'model_results.pkl'\n",
        "with open('model_results.pkl', 'wb') as f:\n",
        "    pickle.dump(model_results, f)\n",
        "\n",
        "print(\"Diccionario de resultados guardado en 'model_results.pkl'\")"
      ]
    },
    {
      "cell_type": "code",
      "execution_count": null,
      "metadata": {
        "colab": {
          "base_uri": "https://localhost:8080/"
        },
        "id": "hfeTceYgherH",
        "outputId": "82bf4048-05b6-4580-e801-44259948f790"
      },
      "outputs": [
        {
          "name": "stdout",
          "output_type": "stream",
          "text": [
            "Collecting streamlit\n",
            "  Downloading streamlit-1.45.0-py3-none-any.whl.metadata (8.9 kB)\n",
            "Requirement already satisfied: altair<6,>=4.0 in /usr/local/lib/python3.11/dist-packages (from streamlit) (5.5.0)\n",
            "Requirement already satisfied: blinker<2,>=1.5.0 in /usr/local/lib/python3.11/dist-packages (from streamlit) (1.9.0)\n",
            "Requirement already satisfied: cachetools<6,>=4.0 in /usr/local/lib/python3.11/dist-packages (from streamlit) (5.5.2)\n",
            "Requirement already satisfied: click<9,>=7.0 in /usr/local/lib/python3.11/dist-packages (from streamlit) (8.1.8)\n",
            "Requirement already satisfied: numpy<3,>=1.23 in /usr/local/lib/python3.11/dist-packages (from streamlit) (2.0.2)\n",
            "Requirement already satisfied: packaging<25,>=20 in /usr/local/lib/python3.11/dist-packages (from streamlit) (24.2)\n",
            "Requirement already satisfied: pandas<3,>=1.4.0 in /usr/local/lib/python3.11/dist-packages (from streamlit) (2.2.2)\n",
            "Requirement already satisfied: pillow<12,>=7.1.0 in /usr/local/lib/python3.11/dist-packages (from streamlit) (11.2.1)\n",
            "Requirement already satisfied: protobuf<7,>=3.20 in /usr/local/lib/python3.11/dist-packages (from streamlit) (5.29.4)\n",
            "Requirement already satisfied: pyarrow>=7.0 in /usr/local/lib/python3.11/dist-packages (from streamlit) (18.1.0)\n",
            "Requirement already satisfied: requests<3,>=2.27 in /usr/local/lib/python3.11/dist-packages (from streamlit) (2.32.3)\n",
            "Requirement already satisfied: tenacity<10,>=8.1.0 in /usr/local/lib/python3.11/dist-packages (from streamlit) (9.1.2)\n",
            "Requirement already satisfied: toml<2,>=0.10.1 in /usr/local/lib/python3.11/dist-packages (from streamlit) (0.10.2)\n",
            "Requirement already satisfied: typing-extensions<5,>=4.4.0 in /usr/local/lib/python3.11/dist-packages (from streamlit) (4.13.2)\n",
            "Collecting watchdog<7,>=2.1.5 (from streamlit)\n",
            "  Downloading watchdog-6.0.0-py3-none-manylinux2014_x86_64.whl.metadata (44 kB)\n",
            "\u001b[2K     \u001b[90m━━━━━━━━━━━━━━━━━━━━━━━━━━━━━━━━━━━━━━━━\u001b[0m \u001b[32m44.3/44.3 kB\u001b[0m \u001b[31m1.6 MB/s\u001b[0m eta \u001b[36m0:00:00\u001b[0m\n",
            "\u001b[?25hRequirement already satisfied: gitpython!=3.1.19,<4,>=3.0.7 in /usr/local/lib/python3.11/dist-packages (from streamlit) (3.1.44)\n",
            "Collecting pydeck<1,>=0.8.0b4 (from streamlit)\n",
            "  Downloading pydeck-0.9.1-py2.py3-none-any.whl.metadata (4.1 kB)\n",
            "Requirement already satisfied: tornado<7,>=6.0.3 in /usr/local/lib/python3.11/dist-packages (from streamlit) (6.4.2)\n",
            "Requirement already satisfied: jinja2 in /usr/local/lib/python3.11/dist-packages (from altair<6,>=4.0->streamlit) (3.1.6)\n",
            "Requirement already satisfied: jsonschema>=3.0 in /usr/local/lib/python3.11/dist-packages (from altair<6,>=4.0->streamlit) (4.23.0)\n",
            "Requirement already satisfied: narwhals>=1.14.2 in /usr/local/lib/python3.11/dist-packages (from altair<6,>=4.0->streamlit) (1.37.1)\n",
            "Requirement already satisfied: gitdb<5,>=4.0.1 in /usr/local/lib/python3.11/dist-packages (from gitpython!=3.1.19,<4,>=3.0.7->streamlit) (4.0.12)\n",
            "Requirement already satisfied: python-dateutil>=2.8.2 in /usr/local/lib/python3.11/dist-packages (from pandas<3,>=1.4.0->streamlit) (2.9.0.post0)\n",
            "Requirement already satisfied: pytz>=2020.1 in /usr/local/lib/python3.11/dist-packages (from pandas<3,>=1.4.0->streamlit) (2025.2)\n",
            "Requirement already satisfied: tzdata>=2022.7 in /usr/local/lib/python3.11/dist-packages (from pandas<3,>=1.4.0->streamlit) (2025.2)\n",
            "Requirement already satisfied: charset-normalizer<4,>=2 in /usr/local/lib/python3.11/dist-packages (from requests<3,>=2.27->streamlit) (3.4.1)\n",
            "Requirement already satisfied: idna<4,>=2.5 in /usr/local/lib/python3.11/dist-packages (from requests<3,>=2.27->streamlit) (3.10)\n",
            "Requirement already satisfied: urllib3<3,>=1.21.1 in /usr/local/lib/python3.11/dist-packages (from requests<3,>=2.27->streamlit) (2.4.0)\n",
            "Requirement already satisfied: certifi>=2017.4.17 in /usr/local/lib/python3.11/dist-packages (from requests<3,>=2.27->streamlit) (2025.4.26)\n",
            "Requirement already satisfied: smmap<6,>=3.0.1 in /usr/local/lib/python3.11/dist-packages (from gitdb<5,>=4.0.1->gitpython!=3.1.19,<4,>=3.0.7->streamlit) (5.0.2)\n",
            "Requirement already satisfied: MarkupSafe>=2.0 in /usr/local/lib/python3.11/dist-packages (from jinja2->altair<6,>=4.0->streamlit) (3.0.2)\n",
            "Requirement already satisfied: attrs>=22.2.0 in /usr/local/lib/python3.11/dist-packages (from jsonschema>=3.0->altair<6,>=4.0->streamlit) (25.3.0)\n",
            "Requirement already satisfied: jsonschema-specifications>=2023.03.6 in /usr/local/lib/python3.11/dist-packages (from jsonschema>=3.0->altair<6,>=4.0->streamlit) (2025.4.1)\n",
            "Requirement already satisfied: referencing>=0.28.4 in /usr/local/lib/python3.11/dist-packages (from jsonschema>=3.0->altair<6,>=4.0->streamlit) (0.36.2)\n",
            "Requirement already satisfied: rpds-py>=0.7.1 in /usr/local/lib/python3.11/dist-packages (from jsonschema>=3.0->altair<6,>=4.0->streamlit) (0.24.0)\n",
            "Requirement already satisfied: six>=1.5 in /usr/local/lib/python3.11/dist-packages (from python-dateutil>=2.8.2->pandas<3,>=1.4.0->streamlit) (1.17.0)\n",
            "Downloading streamlit-1.45.0-py3-none-any.whl (9.9 MB)\n",
            "\u001b[2K   \u001b[90m━━━━━━━━━━━━━━━━━━━━━━━━━━━━━━━━━━━━━━━━\u001b[0m \u001b[32m9.9/9.9 MB\u001b[0m \u001b[31m47.1 MB/s\u001b[0m eta \u001b[36m0:00:00\u001b[0m\n",
            "\u001b[?25hDownloading pydeck-0.9.1-py2.py3-none-any.whl (6.9 MB)\n",
            "\u001b[2K   \u001b[90m━━━━━━━━━━━━━━━━━━━━━━━━━━━━━━━━━━━━━━━━\u001b[0m \u001b[32m6.9/6.9 MB\u001b[0m \u001b[31m57.1 MB/s\u001b[0m eta \u001b[36m0:00:00\u001b[0m\n",
            "\u001b[?25hDownloading watchdog-6.0.0-py3-none-manylinux2014_x86_64.whl (79 kB)\n",
            "\u001b[2K   \u001b[90m━━━━━━━━━━━━━━━━━━━━━━━━━━━━━━━━━━━━━━━━\u001b[0m \u001b[32m79.1/79.1 kB\u001b[0m \u001b[31m5.8 MB/s\u001b[0m eta \u001b[36m0:00:00\u001b[0m\n",
            "\u001b[?25hInstalling collected packages: watchdog, pydeck, streamlit\n",
            "Successfully installed pydeck-0.9.1 streamlit-1.45.0 watchdog-6.0.0\n",
            "Collecting pyngrok\n",
            "  Downloading pyngrok-7.2.7-py3-none-any.whl.metadata (9.4 kB)\n",
            "Requirement already satisfied: PyYAML>=5.1 in /usr/local/lib/python3.11/dist-packages (from pyngrok) (6.0.2)\n",
            "Downloading pyngrok-7.2.7-py3-none-any.whl (23 kB)\n",
            "Installing collected packages: pyngrok\n",
            "Successfully installed pyngrok-7.2.7\n"
          ]
        }
      ],
      "source": [
        "!pip install streamlit\n",
        "!pip install pyngrok"
      ]
    },
    {
      "cell_type": "code",
      "execution_count": null,
      "metadata": {
        "colab": {
          "base_uri": "https://localhost:8080/"
        },
        "id": "flbzQ_tjhksm",
        "outputId": "4ff26194-f622-4a07-e197-85c8ca75e149"
      },
      "outputs": [
        {
          "name": "stdout",
          "output_type": "stream",
          "text": [
            "Writing app.py\n"
          ]
        }
      ],
      "source": [
        "%%writefile app.py\n",
        "import streamlit as st\n",
        "import pandas as pd\n",
        "import pickle\n",
        "from prophet import Prophet  # Asegúrate de tener instalado prophet (pip install prophet)\n",
        "import matplotlib.pyplot as plt\n",
        "\n",
        "st.title(\"Aplicación de Pronóstico de Datos Mensuales con Prophet\")\n",
        "\n",
        "# ========= Sección 1: Carga de Datos =========\n",
        "st.header(\"Carga de Datos\")\n",
        "st.write(\"El archivo debe tener las siguientes columnas: **calls**, **aht** y **date**. \" +\n",
        "         \"La fecha debe tener el formato **d/m/YYYY** (por ejemplo, 1/1/2023, 2/1/2023, etc.).\")\n",
        "uploaded_file = st.file_uploader(\"Cargar archivo CSV\", type=[\"csv\"])\n",
        "\n",
        "if uploaded_file is not None:\n",
        "    try:\n",
        "        # Leer el archivo CSV\n",
        "        df = pd.read_csv(uploaded_file)\n",
        "        st.write(\"Datos cargados:\")\n",
        "        st.dataframe(df.head())\n",
        "\n",
        "        # Verificar que existan las columnas requeridas\n",
        "        required_cols = ['calls', 'aht', 'date']\n",
        "        if not all(col in df.columns for col in required_cols):\n",
        "            st.error(\"El archivo no contiene las columnas requeridas. \" +\n",
        "                     \"Asegúrate de incluir 'calls', 'aht' y 'date'.\")\n",
        "        else:\n",
        "            # Convertir la columna 'date' al formato datetime\n",
        "            try:\n",
        "                df['date'] = pd.to_datetime(df['date'], format=\"%d/%m/%Y\")\n",
        "            except Exception as e:\n",
        "                st.error(\"Error al convertir la columna 'date': \" + str(e))\n",
        "\n",
        "            # ========= Sección 2: Estadísticas Descriptivas y Pruebas =========\n",
        "            st.header(\"Estadísticas Descriptivas\")\n",
        "            st.write(df.describe())\n",
        "\n",
        "            st.header(\"Ingrese Resultados de Pruebas Estadísticas\")\n",
        "            mse_input = st.number_input(\"Ingrese valor de MSE\", min_value=0.0, value=0.0, step=0.1)\n",
        "            mae_input = st.number_input(\"Ingrese valor de MAE\", min_value=0.0, value=0.0, step=0.1)\n",
        "\n",
        "            # ========= Sección 3: Pronóstico con Prophet =========\n",
        "            st.header(\"Pronóstico con Prophet\")\n",
        "            forecast_horizon = st.number_input(\"Número de meses a pronosticar\", min_value=1, value=4, step=1)\n",
        "\n",
        "            # Preparación de los datos para Prophet:\n",
        "            df_prophet = df[['date', 'calls']].rename(columns={'date': 'ds', 'calls': 'y'})\n",
        "            df_prophet = df_prophet.sort_values(\"ds\")\n",
        "\n",
        "            # Instanciar el modelo Prophet:\n",
        "            model = Prophet(\n",
        "                growth='linear',\n",
        "                changepoint_prior_scale=0.1,\n",
        "                seasonality_mode='additive',\n",
        "                yearly_seasonality=True,\n",
        "                weekly_seasonality=False,\n",
        "                daily_seasonality=False,\n",
        "                n_changepoints=10\n",
        "            )\n",
        "            with st.spinner(\"Entrenando el modelo Prophet...\"):\n",
        "                model.fit(df_prophet)\n",
        "\n",
        "            # Crear dataframe futuro; usamos 'MS' para tener fechas con día 01 (Month Start)\n",
        "            future = model.make_future_dataframe(periods=int(forecast_horizon), freq=\"MS\")\n",
        "            forecast = model.predict(future)\n",
        "\n",
        "            st.subheader(\"Resultados del Pronóstico\")\n",
        "            st.write(forecast[['ds', 'yhat', 'yhat_lower', 'yhat_upper']].tail(int(forecast_horizon)))\n",
        "\n",
        "            # Graficar el pronóstico\n",
        "            st.subheader(\"Gráfica del Pronóstico\")\n",
        "            fig1 = model.plot(forecast)\n",
        "            st.pyplot(fig1)\n",
        "\n",
        "            # Graficar los componentes del pronóstico\n",
        "            st.subheader(\"Componentes del Pronóstico\")\n",
        "            fig2 = model.plot_components(forecast)\n",
        "            st.pyplot(fig2)\n",
        "\n",
        "            # ========= Sección 4: Consolida Resultados y Guardado =========\n",
        "            st.header(\"Guardar Resultados\")\n",
        "            results_dict = {\n",
        "                'Prophet': {\n",
        "                    'forecast': forecast[['ds', 'yhat', 'yhat_lower', 'yhat_upper']],\n",
        "                    'model_params': model.params,\n",
        "                    'user_stats': {\n",
        "                        'MSE': mse_input,\n",
        "                        'MAE': mae_input\n",
        "                    },\n",
        "                    'data': df_prophet\n",
        "                }\n",
        "            }\n",
        "            if st.button(\"Guardar resultados en model_results.pkl\"):\n",
        "                with open('model_results.pkl', 'wb') as f:\n",
        "                    pickle.dump(results_dict, f)\n",
        "                st.success(\"Resultados guardados en 'model_results.pkl'.\")\n",
        "\n",
        "    except Exception as e:\n",
        "        st.error(\"Error al cargar o procesar el archivo: \" + str(e))\n",
        "else:\n",
        "    st.info(\"Por favor, carga un archivo CSV para continuar.\")"
      ]
    },
    {
      "cell_type": "code",
      "execution_count": null,
      "metadata": {
        "colab": {
          "base_uri": "https://localhost:8080/",
          "height": 463
        },
        "id": "d4yWiNbqhyMq",
        "outputId": "f572040c-322f-486c-af9d-30abe5e215c4"
      },
      "outputs": [
        {
          "name": "stdout",
          "output_type": "stream",
          "text": []
        },
        {
          "name": "stderr",
          "output_type": "stream",
          "text": [
            "ERROR:pyngrok.process.ngrok:t=2025-05-07T06:55:34+0000 lvl=eror msg=\"failed to reconnect session\" obj=tunnels.session err=\"authentication failed: Usage of ngrok requires a verified account and authtoken.\\n\\nSign up for an account: https://dashboard.ngrok.com/signup\\nInstall your authtoken: https://dashboard.ngrok.com/get-started/your-authtoken\\r\\n\\r\\nERR_NGROK_4018\\r\\n\"\n",
            "ERROR:pyngrok.process.ngrok:t=2025-05-07T06:55:34+0000 lvl=eror msg=\"session closing\" obj=tunnels.session err=\"authentication failed: Usage of ngrok requires a verified account and authtoken.\\n\\nSign up for an account: https://dashboard.ngrok.com/signup\\nInstall your authtoken: https://dashboard.ngrok.com/get-started/your-authtoken\\r\\n\\r\\nERR_NGROK_4018\\r\\n\"\n",
            "ERROR:pyngrok.process.ngrok:t=2025-05-07T06:55:34+0000 lvl=eror msg=\"terminating with error\" obj=app err=\"authentication failed: Usage of ngrok requires a verified account and authtoken.\\n\\nSign up for an account: https://dashboard.ngrok.com/signup\\nInstall your authtoken: https://dashboard.ngrok.com/get-started/your-authtoken\\r\\n\\r\\nERR_NGROK_4018\\r\\n\"\n",
            "CRITICAL:pyngrok.process.ngrok:t=2025-05-07T06:55:34+0000 lvl=crit msg=\"command failed\" err=\"authentication failed: Usage of ngrok requires a verified account and authtoken.\\n\\nSign up for an account: https://dashboard.ngrok.com/signup\\nInstall your authtoken: https://dashboard.ngrok.com/get-started/your-authtoken\\r\\n\\r\\nERR_NGROK_4018\\r\\n\"\n"
          ]
        },
        {
          "ename": "PyngrokNgrokError",
          "evalue": "The ngrok process errored on start: authentication failed: Usage of ngrok requires a verified account and authtoken.\\n\\nSign up for an account: https://dashboard.ngrok.com/signup\\nInstall your authtoken: https://dashboard.ngrok.com/get-started/your-authtoken\\r\\n\\r\\nERR_NGROK_4018\\r\\n.",
          "output_type": "error",
          "traceback": [
            "\u001b[0;31m---------------------------------------------------------------------------\u001b[0m",
            "\u001b[0;31mPyngrokNgrokError\u001b[0m                         Traceback (most recent call last)",
            "\u001b[0;32m<ipython-input-133-e3fd3c94a903>\u001b[0m in \u001b[0;36m<cell line: 0>\u001b[0;34m()\u001b[0m\n\u001b[1;32m      3\u001b[0m \u001b[0;34m\u001b[0m\u001b[0m\n\u001b[1;32m      4\u001b[0m \u001b[0;31m# Abre un túnel en el puerto 8501, que es donde se ejecuta Streamlit por defecto\u001b[0m\u001b[0;34m\u001b[0m\u001b[0;34m\u001b[0m\u001b[0m\n\u001b[0;32m----> 5\u001b[0;31m \u001b[0mpublic_url\u001b[0m \u001b[0;34m=\u001b[0m \u001b[0mngrok\u001b[0m\u001b[0;34m.\u001b[0m\u001b[0mconnect\u001b[0m\u001b[0;34m(\u001b[0m\u001b[0mport\u001b[0m\u001b[0;34m=\u001b[0m\u001b[0;36m8501\u001b[0m\u001b[0;34m)\u001b[0m\u001b[0;34m\u001b[0m\u001b[0;34m\u001b[0m\u001b[0m\n\u001b[0m\u001b[1;32m      6\u001b[0m \u001b[0mprint\u001b[0m\u001b[0;34m(\u001b[0m\u001b[0;34m\"La aplicación está disponible en:\"\u001b[0m\u001b[0;34m,\u001b[0m \u001b[0mpublic_url\u001b[0m\u001b[0;34m)\u001b[0m\u001b[0;34m\u001b[0m\u001b[0;34m\u001b[0m\u001b[0m\n\u001b[1;32m      7\u001b[0m \u001b[0;34m\u001b[0m\u001b[0m\n",
            "\u001b[0;32m/usr/local/lib/python3.11/dist-packages/pyngrok/ngrok.py\u001b[0m in \u001b[0;36mconnect\u001b[0;34m(addr, proto, name, pyngrok_config, **options)\u001b[0m\n\u001b[1;32m    350\u001b[0m     \u001b[0mlogger\u001b[0m\u001b[0;34m.\u001b[0m\u001b[0minfo\u001b[0m\u001b[0;34m(\u001b[0m\u001b[0;34mf\"Opening tunnel named: {name}\"\u001b[0m\u001b[0;34m)\u001b[0m\u001b[0;34m\u001b[0m\u001b[0;34m\u001b[0m\u001b[0m\n\u001b[1;32m    351\u001b[0m \u001b[0;34m\u001b[0m\u001b[0m\n\u001b[0;32m--> 352\u001b[0;31m     \u001b[0mapi_url\u001b[0m \u001b[0;34m=\u001b[0m \u001b[0mget_ngrok_process\u001b[0m\u001b[0;34m(\u001b[0m\u001b[0mpyngrok_config\u001b[0m\u001b[0;34m)\u001b[0m\u001b[0;34m.\u001b[0m\u001b[0mapi_url\u001b[0m\u001b[0;34m\u001b[0m\u001b[0;34m\u001b[0m\u001b[0m\n\u001b[0m\u001b[1;32m    353\u001b[0m \u001b[0;34m\u001b[0m\u001b[0m\n\u001b[1;32m    354\u001b[0m     \u001b[0mlogger\u001b[0m\u001b[0;34m.\u001b[0m\u001b[0mdebug\u001b[0m\u001b[0;34m(\u001b[0m\u001b[0;34mf\"Creating tunnel with options: {options}\"\u001b[0m\u001b[0;34m)\u001b[0m\u001b[0;34m\u001b[0m\u001b[0;34m\u001b[0m\u001b[0m\n",
            "\u001b[0;32m/usr/local/lib/python3.11/dist-packages/pyngrok/ngrok.py\u001b[0m in \u001b[0;36mget_ngrok_process\u001b[0;34m(pyngrok_config)\u001b[0m\n\u001b[1;32m    171\u001b[0m     \u001b[0minstall_ngrok\u001b[0m\u001b[0;34m(\u001b[0m\u001b[0mpyngrok_config\u001b[0m\u001b[0;34m)\u001b[0m\u001b[0;34m\u001b[0m\u001b[0;34m\u001b[0m\u001b[0m\n\u001b[1;32m    172\u001b[0m \u001b[0;34m\u001b[0m\u001b[0m\n\u001b[0;32m--> 173\u001b[0;31m     \u001b[0;32mreturn\u001b[0m \u001b[0mprocess\u001b[0m\u001b[0;34m.\u001b[0m\u001b[0mget_process\u001b[0m\u001b[0;34m(\u001b[0m\u001b[0mpyngrok_config\u001b[0m\u001b[0;34m)\u001b[0m\u001b[0;34m\u001b[0m\u001b[0;34m\u001b[0m\u001b[0m\n\u001b[0m\u001b[1;32m    174\u001b[0m \u001b[0;34m\u001b[0m\u001b[0m\n\u001b[1;32m    175\u001b[0m \u001b[0;34m\u001b[0m\u001b[0m\n",
            "\u001b[0;32m/usr/local/lib/python3.11/dist-packages/pyngrok/process.py\u001b[0m in \u001b[0;36mget_process\u001b[0;34m(pyngrok_config)\u001b[0m\n\u001b[1;32m    263\u001b[0m         \u001b[0;32mreturn\u001b[0m \u001b[0m_current_processes\u001b[0m\u001b[0;34m[\u001b[0m\u001b[0mpyngrok_config\u001b[0m\u001b[0;34m.\u001b[0m\u001b[0mngrok_path\u001b[0m\u001b[0;34m]\u001b[0m\u001b[0;34m\u001b[0m\u001b[0;34m\u001b[0m\u001b[0m\n\u001b[1;32m    264\u001b[0m \u001b[0;34m\u001b[0m\u001b[0m\n\u001b[0;32m--> 265\u001b[0;31m     \u001b[0;32mreturn\u001b[0m \u001b[0m_start_process\u001b[0m\u001b[0;34m(\u001b[0m\u001b[0mpyngrok_config\u001b[0m\u001b[0;34m)\u001b[0m\u001b[0;34m\u001b[0m\u001b[0;34m\u001b[0m\u001b[0m\n\u001b[0m\u001b[1;32m    266\u001b[0m \u001b[0;34m\u001b[0m\u001b[0m\n\u001b[1;32m    267\u001b[0m \u001b[0;34m\u001b[0m\u001b[0m\n",
            "\u001b[0;32m/usr/local/lib/python3.11/dist-packages/pyngrok/process.py\u001b[0m in \u001b[0;36m_start_process\u001b[0;34m(pyngrok_config)\u001b[0m\n\u001b[1;32m    427\u001b[0m \u001b[0;34m\u001b[0m\u001b[0m\n\u001b[1;32m    428\u001b[0m         \u001b[0;32mif\u001b[0m \u001b[0mngrok_process\u001b[0m\u001b[0;34m.\u001b[0m\u001b[0mstartup_error\u001b[0m \u001b[0;32mis\u001b[0m \u001b[0;32mnot\u001b[0m \u001b[0;32mNone\u001b[0m\u001b[0;34m:\u001b[0m\u001b[0;34m\u001b[0m\u001b[0;34m\u001b[0m\u001b[0m\n\u001b[0;32m--> 429\u001b[0;31m             raise PyngrokNgrokError(f\"The ngrok process errored on start: {ngrok_process.startup_error}.\",\n\u001b[0m\u001b[1;32m    430\u001b[0m                                     \u001b[0mngrok_process\u001b[0m\u001b[0;34m.\u001b[0m\u001b[0mlogs\u001b[0m\u001b[0;34m,\u001b[0m\u001b[0;34m\u001b[0m\u001b[0;34m\u001b[0m\u001b[0m\n\u001b[1;32m    431\u001b[0m                                     ngrok_process.startup_error)\n",
            "\u001b[0;31mPyngrokNgrokError\u001b[0m: The ngrok process errored on start: authentication failed: Usage of ngrok requires a verified account and authtoken.\\n\\nSign up for an account: https://dashboard.ngrok.com/signup\\nInstall your authtoken: https://dashboard.ngrok.com/get-started/your-authtoken\\r\\n\\r\\nERR_NGROK_4018\\r\\n."
          ]
        }
      ],
      "source": []
    }
  ],
  "metadata": {
    "colab": {
      "include_colab_link": true,
      "name": "endtoendforecast.ipynb",
      "provenance": []
    },
    "kernelspec": {
      "display_name": ".venv",
      "language": "python",
      "name": "python3"
    },
    "language_info": {
      "codemirror_mode": {
        "name": "ipython",
        "version": 3
      },
      "file_extension": ".py",
      "mimetype": "text/x-python",
      "name": "python",
      "nbconvert_exporter": "python",
      "pygments_lexer": "ipython3",
      "version": "3.12.1"
    }
  },
  "nbformat": 4,
  "nbformat_minor": 0
}
